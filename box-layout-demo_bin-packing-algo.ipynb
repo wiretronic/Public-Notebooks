{
 "cells": [
  {
   "cell_type": "markdown",
   "metadata": {},
   "source": [
    "# Bin packing algorithm\n",
    "**Notes:**\n",
    "- Use greedy bin packer, maximal_rectangle seems cool packing algo, this far i've only tried bottom left heuristic.\n",
    "- Should be pretty straight forward, enter container sizes that we want to pack and then a new box layout will be presented.\n",
    "- We want to soleve the problem of filling the box, thus append either small box or enlarge neighbouring boxes."
   ]
  },
  {
   "cell_type": "code",
   "execution_count": 2,
   "metadata": {},
   "outputs": [],
   "source": [
    "import greedypacker\n",
    "import numpy as np\n",
    "import matplotlib.pyplot as plt"
   ]
  },
  {
   "cell_type": "code",
   "execution_count": 3,
   "metadata": {},
   "outputs": [],
   "source": [
    "def makeGrid(items, w, h):\n",
    "    grid = np.zeros((h, w))\n",
    "    \n",
    "    for i, item in enumerate(items):\n",
    "        grid[item.y:item.y+item.height, item.x:item.x+item.width] = i + 1\n",
    "    print(grid)\n",
    "    return grid\n",
    "\n",
    "def plotGrid(grid, num_items):\n",
    "    fig, ax = plt.subplots()\n",
    "\n",
    "    min_val, max_val = 0, num_items\n",
    "\n",
    "    ax.matshow(grid, cmap=plt.cm.Blues)"
   ]
  },
  {
   "cell_type": "code",
   "execution_count": 10,
   "metadata": {},
   "outputs": [
    {
     "name": "stdout",
     "output_type": "stream",
     "text": [
      "excluded items [Item(width=2, height=1, x=0, y=0), Item(width=2, height=1, x=2, y=0), Item(width=1, height=1, x=4, y=0), Item(width=1, height=1, x=5, y=0)]\n",
      "[[ 1.  1.  2.  2.  3.  3.  4.  4.]\n",
      " [ 1.  1.  2.  2.  3.  3.  4.  4.]\n",
      " [ 1.  1.  2.  2.  5.  6.  6.  7.]\n",
      " [ 8.  8.  9.  9.  5. 10. 10.  7.]]\n"
     ]
    }
   ],
   "source": [
    "import greedypacker\n",
    "w, h = 8, 4\n",
    "\n",
    "binManager = greedypacker.BinManager(w, h, pack_algo='maximal_rectangle', heuristic='bottom_left', wastemap=True, rotation=True)\n",
    "\n",
    "items = []\n",
    "for item in [[2, 2], [1, 2], [2, 3], [2, 1], [2, 1], [2, 1], [1, 1], [2, 2], [1, 2], [2, 3], [2, 1], [2, 1], [2, 1], [1, 1]]:\n",
    "    items.append(greedypacker.Item(item[0], item[1]))\n",
    "\n",
    "[binManager.add_items(x) for x in items]\n",
    "binManager.execute()\n",
    "\n",
    "for excluded in binManager.bins[1:]:\n",
    "    print(\"excluded items\", excluded.items)\n",
    "\n",
    "g = makeGrid(binManager.bins[0].items, w, h)"
   ]
  },
  {
   "cell_type": "markdown",
   "metadata": {},
   "source": [
    "## Beskrivning\n",
    "Här demonstreras ett ganska enkelt exempel där man automatiskt genererar låduppsättningar. Algoritmet tar in storlekar av lådor och sen placerar ut dem i en matris. Nedan kan man se ett exempel på en sådan matris. Jag använder mig av greedy search och söker efer optimala \"maximal_rectangle\".\n",
    "\n",
    "### För generering av låd-layouter\n",
    "Jag tänker att man ganska enkelt kan uppskatta hur mycket platts de olka komponenterna tar upp areamässigt och lägga in det i databasen. Sen skriver man ett litet verktyg som låter en fylla i hur många av varje komponent man vill ha samt hur många lådor. Algoritmet kommer att försöka packa ihop så mycker som möjligt i dem.\n",
    "\n",
    "När man gjort det borde det gå ganska lätt att generera bilder för kit osv."
   ]
  },
  {
   "cell_type": "code",
   "execution_count": 11,
   "metadata": {},
   "outputs": [
    {
     "data": {
      "image/png": "[encoded data removed]",
      "text/plain": [
       "<Figure size 432x288 with 1 Axes>"
      ]
     },
     "metadata": {
      "needs_background": "light"
     },
     "output_type": "display_data"
    }
   ],
   "source": [
    "plotGrid(g, len(items))"
   ]
  }
 ],
 "metadata": {
  "kernelspec": {
   "display_name": "Python 3.6.9 64-bit",
   "language": "python",
   "name": "python36964bit2502216c0f2d4efe962f8ef24988d8c8"
  },
  "language_info": {
   "codemirror_mode": {
    "name": "ipython",
    "version": 3
   },
   "file_extension": ".py",
   "mimetype": "text/x-python",
   "name": "python",
   "nbconvert_exporter": "python",
   "pygments_lexer": "ipython3",
   "version": "3.8.6"
  }
 },
 "nbformat": 4,
 "nbformat_minor": 4
}
